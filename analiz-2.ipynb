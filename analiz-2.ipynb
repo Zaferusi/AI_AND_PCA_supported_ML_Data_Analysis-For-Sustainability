{
 "cells": [
  {
   "cell_type": "code",
   "execution_count": 7,
   "metadata": {},
   "outputs": [],
   "source": [
    "import pandas as pd\n",
    "\n",
    "from sklearn.feature_selection import VarianceThreshold\n",
    "\n",
    "data=pd.read_csv('arranged-last.csv')\n",
    "\n",
    "\n",
    "updates = {\n",
    "    'ROOF_DESCRIPTION': 300,\n",
    "    'EXTENSION_COUNT': 0,\n",
    "    'FLOOR_DESCRIPTION': 3,\n",
    "    'NUMBER_OPEN_FIREPLACES': 0,\n",
    "    'MAIN_FUEL': 1,\n",
    "    'WALLS_ENERGY_EFF': 4\n",
    "}\n",
    "\n",
    "# Verileri güncelleme\n",
    "for column, value in updates.items():\n",
    "    data.loc[data.index[-10:], column] = value\n",
    "\n",
    "changed_df=data[-10:]"
   ]
  },
  {
   "cell_type": "code",
   "execution_count": 8,
   "metadata": {},
   "outputs": [],
   "source": [
    "import numpy as np \n",
    "\n",
    "changed_df=changed_df.select_dtypes(include=[np.number]).drop(columns=['CO2_EMISSIONS_CURRENT','ENVIRONMENT_IMPACT_CURRENT','ENERGY_CONSUMPTION_CURRENT','CURRENT_ENERGY_EFFICIENCY','GLAZED_TYPE','SOLAR_WATER_HEATING_FLAG','ENERGY_CONSUMPTION_CURRENT','CO2_EMISS_CURR_PER_FLOOR_AREA','UPRN','Unnamed: 0'])\n",
    "changed_df.to_csv('changed_df.csv')"
   ]
  },
  {
   "cell_type": "code",
   "execution_count": 9,
   "metadata": {},
   "outputs": [
    {
     "name": "stderr",
     "output_type": "stream",
     "text": [
      "c:\\Users\\zafer.usi\\AppData\\Local\\anaconda3\\Lib\\site-packages\\sklearn\\base.py:457: UserWarning: X has feature names, but StandardScaler was fitted without feature names\n",
      "  warnings.warn(\n"
     ]
    }
   ],
   "source": [
    "import pandas as pd\n",
    "import numpy as np\n",
    "from sklearn.decomposition import PCA\n",
    "from sklearn.preprocessing import StandardScaler\n",
    "\n",
    "# Load the dataset that needs to be transformed\n",
    "df_to_transform = pd.read_csv('changed_df.csv')  # Replace 'your_dataset.csv' with your actual data file\n",
    "\n",
    "# Load scaler parameters\n",
    "scaler_params = pd.read_csv('scaler_parameters.csv', index_col=0)\n",
    "means = scaler_params['mean'].values\n",
    "variances = scaler_params['variance'].values\n",
    "\n",
    "# Load PCA loadings\n",
    "pca_loadings = pd.read_csv('PCA_loadings.csv', index_col=0)\n",
    "\n",
    "# Standardize the dataset using loaded mean and variance\n",
    "scaler = StandardScaler()\n",
    "scaler.mean_ = means\n",
    "scaler.var_ = variances\n",
    "scaler.scale_ = np.sqrt(variances)  # scale_ is the standard deviation (sqrt of variance)\n",
    "X_scaled = scaler.transform(df_to_transform.loc[:, scaler_params.index])  # Ensure columns match\n",
    "\n",
    "# Apply PCA transformation using the loadings\n",
    "pca_transformed_features = np.dot(X_scaled, pca_loadings.values)\n",
    "\n",
    "# Convert the transformed features into a DataFrame\n",
    "pca_features_df = pd.DataFrame(pca_transformed_features, columns=pca_loadings.columns)\n",
    "\n",
    "# Save or print the PCA transformed features\n",
    "pca_features_df.to_csv('test_x.csv', index=False)\n"
   ]
  }
 ],
 "metadata": {
  "kernelspec": {
   "display_name": "Python 3",
   "language": "python",
   "name": "python3"
  },
  "language_info": {
   "codemirror_mode": {
    "name": "ipython",
    "version": 3
   },
   "file_extension": ".py",
   "mimetype": "text/x-python",
   "name": "python",
   "nbconvert_exporter": "python",
   "pygments_lexer": "ipython3",
   "version": "3.11.7"
  }
 },
 "nbformat": 4,
 "nbformat_minor": 2
}
