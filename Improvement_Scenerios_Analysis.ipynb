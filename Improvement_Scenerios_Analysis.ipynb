{
 "cells": [
  {
   "cell_type": "markdown",
   "metadata": {},
   "source": [
    "RandomForest Regressor modeli farklı karar alma algoritmalarında veriden subsetler oluşturarak ortak bir karar almayı sağlayan kümelemeli makine öğrenme yöntemidir.\n",
    "Öncelikle aşağıdaki hücrede gerekli kütüphane ve elemanları import ederek başlayalım.\n"
   ]
  },
  {
   "cell_type": "code",
   "execution_count": 12,
   "metadata": {},
   "outputs": [],
   "source": [
    "import pandas as pd\n",
    "import matplotlib.pyplot as plt\n",
    "import seaborn as sns\n",
    "import sklearn\n",
    "import warnings\n",
    " \n",
    "from sklearn.preprocessing import LabelEncoder\n",
    "from sklearn.impute import KNNImputer\n",
    "from sklearn.model_selection import train_test_split\n",
    "from sklearn.preprocessing import StandardScaler\n",
    "from sklearn.metrics import f1_score\n",
    "from sklearn.ensemble import RandomForestRegressor\n",
    "from sklearn.ensemble import RandomForestRegressor\n",
    "from sklearn.model_selection import cross_val_score\n",
    "import numpy as np\n",
    "warnings.filterwarnings('ignore')"
   ]
  },
  {
   "cell_type": "code",
   "execution_count": 13,
   "metadata": {},
   "outputs": [],
   "source": [
    "#TRAİN\n",
    "df=pd.read_csv('PCA_transformed_features.csv')\n",
    "\n",
    "x=df.select_dtypes(include=[np.number]).drop(columns=['CO2_EMISS_CURR_PER_FLOOR_AREA'])#\n",
    "x=df.iloc[:, :3].values\n",
    "\n",
    "\n",
    "y=df['CO2_EMISS_CURR_PER_FLOOR_AREA'].values\n",
    "\n",
    "edit_df=pd.read_csv('test_x.csv')\n",
    "\n",
    "edit_x=edit_df.select_dtypes(include=[np.number])\n",
    "edit_x=edit_df.iloc[:, :3].values\n",
    "\n",
    "# Splitting the dataset into training and testing sets\n",
    "x_train, x_test, y_train, y_test = x[:-10],x[-10:],y[:-10],y[-10:] \n",
    "x_test=edit_x[-10:]\n",
    "from sklearn.preprocessing import MinMaxScaler\n",
    "# Initialize the MinMaxScaler\n",
    "scaler = MinMaxScaler()\n",
    "\n",
    "# Fit the scaler on the training data and transform it\n",
    "X_train_scaled = scaler.fit_transform(x_train)\n",
    "X_test_scaled = scaler.transform(x_test)\n",
    "\n"
   ]
  },
  {
   "cell_type": "code",
   "execution_count": 14,
   "metadata": {},
   "outputs": [
    {
     "name": "stdout",
     "output_type": "stream",
     "text": [
      "The predicted CO2 emisson pef floor area for the building 0 is 21.56 and the real value is 22\n",
      "The predicted CO2 emisson pef floor area for the building 1 is 24.27 and the real value is 27\n",
      "The predicted CO2 emisson pef floor area for the building 2 is 15.97 and the real value is 16\n",
      "The predicted CO2 emisson pef floor area for the building 3 is 16.57 and the real value is 19\n",
      "The predicted CO2 emisson pef floor area for the building 4 is 16.4 and the real value is 17\n",
      "The predicted CO2 emisson pef floor area for the building 5 is 28.19 and the real value is 28\n",
      "The predicted CO2 emisson pef floor area for the building 6 is 19.03 and the real value is 22\n",
      "The predicted CO2 emisson pef floor area for the building 7 is 18.24 and the real value is 18\n",
      "The predicted CO2 emisson pef floor area for the building 8 is 16.43 and the real value is 18\n",
      "The predicted CO2 emisson pef floor area for the building 9 is 19.01 and the real value is 16\n"
     ]
    }
   ],
   "source": [
    "from sklearn.svm import SVR\n",
    "import joblib\n",
    "model = joblib.load('Support_vector_model.pkl')\n",
    "\n",
    "predictions=model.predict(x_test)\n",
    "# Making predictions on the same data or new data\n",
    "\n",
    "predictions=predictions.round(2)\n",
    "for i in range(10):\n",
    "    print(f'The predicted CO2 emisson pef floor area for the building {i} is {predictions[i]} and the real value is {y_test[i]}')\n"
   ]
  },
  {
   "cell_type": "code",
   "execution_count": 15,
   "metadata": {},
   "outputs": [
    {
     "name": "stdout",
     "output_type": "stream",
     "text": [
      "The predicted CO2 emisson pef floor area for the building 0 is 23.739999771118164 and the real value is 22\n",
      "The predicted CO2 emisson pef floor area for the building 1 is 26.209999084472656 and the real value is 27\n",
      "The predicted CO2 emisson pef floor area for the building 2 is 13.960000038146973 and the real value is 16\n",
      "The predicted CO2 emisson pef floor area for the building 3 is 17.049999237060547 and the real value is 19\n",
      "The predicted CO2 emisson pef floor area for the building 4 is 13.960000038146973 and the real value is 17\n",
      "The predicted CO2 emisson pef floor area for the building 5 is 28.93000030517578 and the real value is 28\n",
      "The predicted CO2 emisson pef floor area for the building 6 is 18.520000457763672 and the real value is 22\n",
      "The predicted CO2 emisson pef floor area for the building 7 is 18.049999237060547 and the real value is 18\n",
      "The predicted CO2 emisson pef floor area for the building 8 is 13.960000038146973 and the real value is 18\n",
      "The predicted CO2 emisson pef floor area for the building 9 is 18.049999237060547 and the real value is 16\n"
     ]
    }
   ],
   "source": [
    "from sklearn.svm import SVR\n",
    "import xgboost as xgb\n",
    "model = joblib.load('xgb_model.pkl')\n",
    "\n",
    "\n",
    "predictions = model.predict(X_test_scaled)\n",
    "# # Evaluating the model\n",
    "predictions=predictions.round(2)\n",
    "\n",
    "for i in range(10):\n",
    "    print(f'The predicted CO2 emisson pef floor area for the building {i} is {predictions[i]} and the real value is {y_test[i]}')"
   ]
  }
 ],
 "metadata": {
  "kernelspec": {
   "display_name": "base",
   "language": "python",
   "name": "python3"
  },
  "language_info": {
   "codemirror_mode": {
    "name": "ipython",
    "version": 3
   },
   "file_extension": ".py",
   "mimetype": "text/x-python",
   "name": "python",
   "nbconvert_exporter": "python",
   "pygments_lexer": "ipython3",
   "version": "3.11.7"
  }
 },
 "nbformat": 4,
 "nbformat_minor": 2
}
